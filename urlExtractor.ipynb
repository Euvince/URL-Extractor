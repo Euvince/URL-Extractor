{
 "cells": [
  {
   "cell_type": "code",
   "execution_count": null,
   "id": "47edd43d",
   "metadata": {},
   "outputs": [],
   "source": [
    "import requests\n",
    "\n",
    "headers = {\n",
    "    \"Accept\": \"application/json\",\n",
    "    \"Content-type\": \"application/json\",\n",
    "    \"User-Agent\": \"Dalvik/2.1.0 (Linux; U; Android 11; Pixel Build/RQ1A.210105.003)\",\n",
    "    \"Host\": \"services.pacourts.us\",\n",
    "    \"Connection\": \"keep-alive\",\n",
    "    # 'Accept-Encoding': 'gzip, deflate, br',\n",
    "}\n",
    "\n",
    "response = requests.get(\n",
    "    \"https://services.pacourts.us/public/v1/cases/MC-51-CR-0008175-2025\",\n",
    "    headers=headers,\n",
    "    verify=False,\n",
    ")"
   ]
  },
  {
   "cell_type": "code",
   "execution_count": null,
   "id": "84d2a873",
   "metadata": {},
   "outputs": [],
   "source": [
    "# <!-- # https://services.pacourts.us/public/v1/cases/MC-51-CR-0008175-2019\n",
    "\n",
    "# \"MJ-02000-CR-0000001-2018\"\n",
    "\n",
    "# 1 -> no reponse\n",
    "# 2 -> no response\n",
    "# 3 -> response\n",
    "# 4 -> no reponse\n",
    "# 5 -> no reponse\n",
    "# ...\n",
    "# 55 -> no reponse\n",
    "\n",
    "\n",
    "# https://services.pacourts.us/public/v1/cases/MC-51-CR-0008175-2019\n",
    "\n",
    "# 1 -> response\n",
    "# ....\n",
    "# 10 -> reponse\n",
    "# 11 -> no reponse\n",
    "# 12 -> no reponse\n",
    "# ....\n",
    "# 60 -> no response\n",
    "\n",
    "\n",
    "# https://services.pacourts.us/public/v1/cases/MC-51-CR-0008175-2020\n",
    "\n",
    "# 1 -> no reponse\n",
    "# 2 -> no reponse\n",
    "# ...\n",
    "# 40 -> no reponse\n",
    "# 41 -> reponse\n",
    "# 42 -> no response\n",
    "# ....\n",
    "# 92 -> no reponse\n",
    "\n",
    "\n",
    "# https://services.pacourts.us/public/v1/cases/MC-51-CR-0008175-2021 -->"
   ]
  }
 ],
 "metadata": {
  "language_info": {
   "name": "python"
  }
 },
 "nbformat": 4,
 "nbformat_minor": 5
}
